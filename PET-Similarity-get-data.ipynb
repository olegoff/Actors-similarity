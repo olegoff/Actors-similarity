{
 "cells": [
  {
   "cell_type": "markdown",
   "id": "8a47b90f",
   "metadata": {},
   "source": [
    "### 1. Постановка задачи"
   ]
  },
  {
   "cell_type": "markdown",
   "id": "30304110",
   "metadata": {},
   "source": [
    "Создать модель, которая будет по загружаемой фотографии лица пользователя находить максимально похожих на него или неё  отечетвенных и иностранных знаменистостей, в зависимости от пола."
   ]
  },
  {
   "cell_type": "markdown",
   "id": "6f9b45d8",
   "metadata": {},
   "source": [
    "### 2. Получение данных в виде списка знаменитостей"
   ]
  },
  {
   "cell_type": "markdown",
   "id": "d7aea196",
   "metadata": {},
   "source": [
    "Для получения баз данных лиц, на которых будет обучаться модель, необходим список популярных актеров и актрис. Получим его\n",
    "из рейтинга ТОП 10000 популярных имён с сайта kinopoisk.ru, составленного на основе посещаемости страниц актёров и атрис, а также запросов к поисковой системе данного сайта."
   ]
  },
  {
   "cell_type": "markdown",
   "id": "7d7c1d05",
   "metadata": {},
   "source": [
    "Спарсим имена актёров и актрис из данного рейтинга. Для этого подключим необходимые библиотеки."
   ]
  },
  {
   "cell_type": "code",
   "execution_count": null,
   "id": "dc110e2b",
   "metadata": {},
   "outputs": [],
   "source": [
    "from tqdm import tqdm_notebook\n",
    "from bs4 import BeautifulSoup\n",
    "import urllib.request\n",
    "import pandas as pd\n",
    "import numpy as np\n",
    "import urllib\n",
    "import requests\n",
    "import json\n",
    "import zlib\n",
    "import time\n",
    "import os"
   ]
  },
  {
   "cell_type": "markdown",
   "id": "db8a8ac6",
   "metadata": {},
   "source": [
    "В процессе парсинга необходимо перебрать 50 страниц указанного рейтинга и получить с каждой из них следующие данные: место в рейтинге, идентификатор знаменитости на сайте кинопоиска, имя на русском и на английском языках. После чего заносим эти данные в таблицу Pandas и сохраняем полученную базу в CSV формате."
   ]
  },
  {
   "cell_type": "code",
   "execution_count": null,
   "id": "5daac640",
   "metadata": {},
   "outputs": [],
   "source": [
    "data = []\n",
    "\n",
    "for i in range(1, 51):\n",
    "    rate_url = f'https://www.kinopoisk.ru/popular/names/page/{i}/'\n",
    "    rate_res = requests.get(rate_url)\n",
    "    soup = BeautifulSoup(rate_res.content, 'html.parser')\n",
    "    \n",
    "    divs = soup.find_all('div', class_='el')\n",
    "    \n",
    "    for div in divs:\n",
    "        # место в рейтинге\n",
    "        rate = div.find('b').text\n",
    "        \n",
    "        # получение kinopoinsk id\n",
    "        href = div.find('a')['href']\n",
    "        kp_id = href.split('/')[2]\n",
    "        \n",
    "        # получение русского имени\n",
    "        rus_name = div.find_all('a')[1].text\n",
    "        \n",
    "        # получение анлийского имени\n",
    "        try:\n",
    "            eng_name = div.find('i').text\n",
    "        except AttributeError:\n",
    "            eng_name = None\n",
    "            \n",
    "        data.append([eng_name, rus_name, kp_id, rate])\n",
    "        \n",
    "    print('%d, parse url: %s' % (i, rate_url))\n",
    "    \n",
    "    time.sleep(1)"
   ]
  },
  {
   "cell_type": "code",
   "execution_count": null,
   "id": "6a65622e",
   "metadata": {},
   "outputs": [],
   "source": [
    "df = pd.DataFrame(data, columns=['Eng_name', 'Rus_name', 'Kpoisk_id', 'Kpoisk_rate'])\n",
    "df.head(10)"
   ]
  },
  {
   "cell_type": "code",
   "execution_count": null,
   "id": "5fede3c8",
   "metadata": {},
   "outputs": [],
   "source": [
    "# Сохранение данных в csv файл\n",
    "df_path = './Documents/DataScience/PET-project/config'\n",
    "\n",
    "if os.path.exists(df_path) != True:\n",
    "    os.mkdir(df_path)\n",
    "\n",
    "df.to_csv(df_path + '/celebs.csv')"
   ]
  },
  {
   "cell_type": "markdown",
   "id": "763d8ece",
   "metadata": {},
   "source": [
    "Предварительный анализ полученной после парсинга базы данных знаменитостей показал, что в ней наряду с актёрами и актрисами, встречаются также имена лиц, хоть и имеющих прямое отношение к киноиндустрии, но менее известных и популярных. А именно сценаристов, режиссёров, актрис и актёров дубляжа, композиторов, продюсеров и операторов, как например, первая строка в рейтинге Лана Вачовски. Для данных лиц может быть затруднительно получение из общедоступных источников качественных изображений их лиц в достаточном количестве, что может негативно сказаться на обучении моделей в последующем."
   ]
  },
  {
   "cell_type": "markdown",
   "id": "60116937",
   "metadata": {},
   "source": [
    "Поэтому было принято решение парсить изображения только для актёров и актрис. Следовательно, базу данных нужно обогатить новыми данными о роли, которую играет каждое лицо в киноиндустрии."
   ]
  },
  {
   "cell_type": "markdown",
   "id": "d0283d8c",
   "metadata": {},
   "source": [
    "Для этого будем парсить данные все того же сайта Кинопоиск, но теперь будем уже обращаться к его внутреннему приватному API, которое используется для отображения краткой информации о лице, при наведении курсора на его имя в рейтинге."
   ]
  },
  {
   "cell_type": "code",
   "execution_count": null,
   "id": "8028315d",
   "metadata": {},
   "outputs": [],
   "source": [
    "df = pd.read_csv('./Documents/DataScience/PET-project/config/celebs.csv')\n",
    "df['Role'] = ''\n",
    "df.to_csv(df_path + '/celebs_ext.csv')"
   ]
  },
  {
   "cell_type": "code",
   "execution_count": null,
   "id": "5f47a772",
   "metadata": {},
   "outputs": [],
   "source": [
    "df = pd.read_csv('./Documents/DataScience/PET-project/config/celebs_ext.csv')"
   ]
  },
  {
   "cell_type": "code",
   "execution_count": null,
   "id": "f887de15",
   "metadata": {},
   "outputs": [],
   "source": [
    "df.head()"
   ]
  },
  {
   "cell_type": "code",
   "execution_count": null,
   "id": "45561f6e",
   "metadata": {},
   "outputs": [],
   "source": [
    "df_new = df.drop(['Unnamed: 0', 'Unnamed: 0.1'], axis=1)\n",
    "df_new.to_csv(df_path + '/celebs_ext.csv')\n",
    "df_new = pd.read_csv('./Documents/DataScience/PET-project/config/celebs_ext.csv')\n",
    "df_new.head()"
   ]
  },
  {
   "cell_type": "code",
   "execution_count": null,
   "id": "547c886e",
   "metadata": {},
   "outputs": [],
   "source": [
    "def get_role(name):\n",
    "    headers = {'User-Agent': 'Mozilla/5.0 (Windows NT 10.0; Win64; x64; rv:93.0) Gecko/20100101 Firefox/93.0',\n",
    "               'Accept': 'application/json',\n",
    "               'Accept-Encoding': 'gzip, deflate, br',\n",
    "               'Accept-Language': 'ru-RU,ru;q=0.8,en-US;q=0.5,en;q=0.3',\n",
    "               'Content-Type': 'application/json',\n",
    "               'Host': 'www.kinopoisk.ru',\n",
    "               'Connection': 'keep-alive',\n",
    "               'Referer': 'https://www.kinopoisk.ru/popular/names/page/1/',\n",
    "               'Sec-Fetch-Dest': 'empty',\n",
    "               'Sec-Fetch-Mode': 'cors',\n",
    "               'Sec-Fetch-Site': 'same-origin',\n",
    "               'uber-trace-id': '1de025900d9f973b:b913feb825f292f2:0:1',\n",
    "               'x-request-id': '1636134704015548-9903085037375331972',\n",
    "               'X-Requested-With': 'XMLHttpRequest'}\n",
    "    \n",
    "    session = requests.Session()\n",
    "    response = session.get('https://www.kinopoisk.ru/popular/names/page/1/')\n",
    "    cookie_parsed = session.cookies.get_dict()\n",
    "    \n",
    "    cookie_str = ''\n",
    "    for key in cookie_parsed:\n",
    "        cookie_str += '%s=%s; ' % (key, cookie_parsed[key])\n",
    "        cookie = {'Cookie': cookie_str}\n",
    "        \n",
    "    # получение исходного кода страниц по запросу к API\n",
    "    request_url = f'https://www.kinopoisk.ru/api/tooltip/person/{name}/'\n",
    "    request = urllib.request.Request(request_url, None, headers={**headers, **cookie})\n",
    "    response = urllib.request.urlopen(request)\n",
    "    \n",
    "    try:\n",
    "        unzip = zlib.decompress(response.read(), 16+zlib.MAX_WBITS)\n",
    "        decoded = unzip.decode('utf8')\n",
    "        parsed_json = json.loads(decoded)\n",
    "    except:\n",
    "        return None\n",
    "    \n",
    "    # получение данных о роли знаменитости в киноиндустрии\n",
    "    try:\n",
    "        role = parsed_json['person']['roles'][0]\n",
    "    except IndexError:\n",
    "        role = None\n",
    "    \n",
    "    print('Id: %s, роль: %s' % (name, role))\n",
    "    \n",
    "    return role"
   ]
  },
  {
   "cell_type": "code",
   "execution_count": null,
   "id": "23dd9284",
   "metadata": {},
   "outputs": [],
   "source": [
    "df_new = pd.read_csv('./Documents/DataScience/PET-project/config/celebs_ext.csv')\n",
    "df_new.head()\n",
    "df_new.drop(['Unnamed: 0',  'role'], axis=1, inplace=True)\n",
    "df_new.to_csv(df_path + '/celebs_ext.csv')\n",
    "df_new = pd.read_csv('./Documents/DataScience/PET-project/config/celebs_ext.csv')"
   ]
  },
  {
   "cell_type": "code",
   "execution_count": null,
   "id": "1cabab1b",
   "metadata": {},
   "outputs": [],
   "source": [
    "df_new.drop(['role'], axis=1, inplace=True)"
   ]
  },
  {
   "cell_type": "code",
   "execution_count": null,
   "id": "dfacfc84",
   "metadata": {},
   "outputs": [],
   "source": [
    "df_new.head()"
   ]
  },
  {
   "cell_type": "code",
   "execution_count": null,
   "id": "bfc7b86f",
   "metadata": {},
   "outputs": [],
   "source": [
    "for i in tqdm_notebook(df_new.query('Role.isnull()', engine='python').index):\n",
    "    df_new.loc[i, 'Role'] = get_role(df_new.loc[i, 'Kpoisk_id'])\n",
    "    # через каждые 100 запросов сохрняем результаты в файл, чтобы не потерять результаты при случайной остановке процесса\n",
    "    if i % 100 == 0:\n",
    "        df_new.to_csv(df_path + '/celebs_ext.csv')"
   ]
  },
  {
   "cell_type": "code",
   "execution_count": null,
   "id": "b320ee3e",
   "metadata": {},
   "outputs": [],
   "source": [
    "df_new.to_csv(df_path + '/celebs_ext.csv')\n",
    "df_new.tail()"
   ]
  },
  {
   "cell_type": "markdown",
   "id": "b002ddcf",
   "metadata": {},
   "source": [
    "Посмотрим на графике сколько каких ролей в киноиндустрии представлено в полученной базе данных знаменитостей."
   ]
  },
  {
   "cell_type": "code",
   "execution_count": null,
   "id": "8b58a868",
   "metadata": {},
   "outputs": [],
   "source": [
    "df_new.groupby('Role').agg('Kpoisk_id').count().plot.bar(figsize=(12,8));"
   ]
  },
  {
   "cell_type": "markdown",
   "id": "c456395c",
   "metadata": {},
   "source": [
    "Как видно из графика более 80% данных в нем - это имена актёров и актрис. Посмотрим на распределение знаменитостей по признаку: отечественные или иностранные."
   ]
  },
  {
   "cell_type": "code",
   "execution_count": null,
   "id": "057279f7",
   "metadata": {},
   "outputs": [],
   "source": [
    "# Иностранные знаменитости\n",
    "df_new.query('Eng_name.notnull() & Role==\"актер\"', engine='python').shape,\\\n",
    "df_new.query('Eng_name.notnull() & Role==\"актриса\"', engine='python').shape"
   ]
  },
  {
   "cell_type": "code",
   "execution_count": null,
   "id": "32479e2b",
   "metadata": {},
   "outputs": [],
   "source": [
    "# Отечественные знаменитости\n",
    "df_new.query('Eng_name.isnull() & Role==\"актер\"', engine='python').shape,\\\n",
    "df_new.query('Eng_name.isnull() & Role==\"актриса\"', engine='python').shape"
   ]
  },
  {
   "cell_type": "markdown",
   "id": "1fccf2bc",
   "metadata": {},
   "source": [
    "Таким образом, полученная база данных содержит имена и фамилии 2887 иностранных актёров и 2666 иностранных актрис, а также имена и фамилии 1463 отечественных актёров и 1294 актрис. Их изображения и будут использованы для обучения модели и последующей её работы для отображения максимально похожих на загруженное фото пользователем лиц."
   ]
  },
  {
   "cell_type": "markdown",
   "id": "d5b80d7e",
   "metadata": {},
   "source": [
    "### 3. Получение изображений для обучения моделей"
   ]
  },
  {
   "cell_type": "markdown",
   "id": "3adece3f",
   "metadata": {},
   "source": [
    "В процессе работы с сайтом kinopoisk.ru было отмечено, что он содержит качественные и релевантные изображения актёров и актрис. Они могут составить основу для набора изображений, необходимого для обучения моделей. Поэтому, проведём ещё один парсинг кинопоиска через его внутренний API для получения и сохранения ссылок на данные изображения для их последующей загрузки."
   ]
  },
  {
   "cell_type": "markdown",
   "id": "2bc120f1",
   "metadata": {},
   "source": [
    "Основное изображение знаменитостей занесём в базу данных в новую колонку под именем **Photo** и впоследствии будем считать их эталонными фото на конкретного атёра или актрисы. Остальные изображения, если они есть, занесём в базу данных в другую новую колонку **Gallery**, используя знак **;** в качестве разделителя."
   ]
  },
  {
   "cell_type": "markdown",
   "id": "8a1f5e64",
   "metadata": {},
   "source": [
    "Для снижения общего размера базы данных, повышения её удобночитаемости благодаря удалению однотипной информации, отбросим повторяющиеся части URL-адресов для колонок **Photo** и **Gallery**. Впоследствии отброшенные части можно бужет легко восстановить добавив к колонке **Photo** значение http://avatars.mds.yandex.net/get-kinopoisk-image/, а к **Gallery** добавив http://st.kp.yandex.net/images/kadr/{%num%}.jpg, заменив в нём *{%num%}* на номер изображения, сохранённый в базе данных."
   ]
  },
  {
   "cell_type": "code",
   "execution_count": null,
   "id": "281ac0cf",
   "metadata": {},
   "outputs": [],
   "source": [
    "def get_photo(name):\n",
    "    headers = {'User-Agent': 'Mozilla/5.0 (Windows NT 10.0; Win64; x64; rv:93.0) Gecko/20100101 Firefox/93.0',\n",
    "               'Accept': 'application/json',\n",
    "               'Accept-Encoding': 'gzip, deflate, br',\n",
    "               'Accept-Language': 'ru-RU,ru;q=0.8,en-US;q=0.5,en;q=0.3',\n",
    "               'Content-Type': 'application/json',\n",
    "               'Host': 'www.kinopoisk.ru',\n",
    "               'Connection': 'keep-alive',\n",
    "               'Referer': 'https://www.kinopoisk.ru/popular/names/page/1/',\n",
    "               'TE': 'trailers',\n",
    "               'Sec-Fetch-Dest': 'empty',\n",
    "               'Sec-Fetch-Mode': 'cors',\n",
    "               'Sec-Fetch-Site': 'same-origin',\n",
    "               'uber-trace-id': '9cdcff51b5599475:29778de5f335b755:0:1',\n",
    "               'x-request-id': '1636351355935334-7100532985104011688',\n",
    "               'X-Requested-With': 'XMLHttpRequest'}\n",
    "    \n",
    "    session = requests.Session()\n",
    "    response = session.get('https://www.kinopoisk.ru/popular/names/day/2021-11-07/page/7/')\n",
    "    cookie_parsed = session.cookies.get_dict()\n",
    "    \n",
    "    cookie_str = ''\n",
    "    for key in cookie_parsed:\n",
    "        cookie_str += '%s=%s; ' % (key, cookie_parsed[key])\n",
    "        cookie = {'Cookie': cookie_str}\n",
    "        \n",
    "    # Загрузка исходного кода страницы и получение ссылок на изображения\n",
    "    request_url = f'https://www.kinopoisk.ru/api/tooltip/person/{name}/'\n",
    "    request = urllib.request.Request(request_url, None, headers={**headers, **cookie})\n",
    "    response = urllib.request.urlopen(request)\n",
    "    \n",
    "    try:\n",
    "        unzip = zlib.decompress(response.read(), 16+zlib.MAX_WBITS)\n",
    "        decoded = unzip.decode('utf8')\n",
    "        parsed_json = json.loads(decoded)\n",
    "    except:\n",
    "        return None\n",
    "    \n",
    "    # получение основного изображения\n",
    "    try:\n",
    "        picture = parsed_json['person']['img']['posterMedium']['x2'][45:]\n",
    "    except KeyError:\n",
    "        picture = None\n",
    "    \n",
    "    # получение дополнительных изображений\n",
    "    try:\n",
    "        gallery = ';'.join([i['url'][34:].replace('.jpg', '') for i in parsed_json['person']['gallery']])\n",
    "    except KeyError:\n",
    "        gallery = None\n",
    "        \n",
    "    print('Id: %s, фото: %s' % (name, picture))\n",
    "\n",
    "    return [picture, gallery]"
   ]
  },
  {
   "cell_type": "code",
   "execution_count": null,
   "id": "7119dc3d",
   "metadata": {},
   "outputs": [],
   "source": [
    "# Отбираем в базе данных всех актёров\n",
    "df_new.query('Role==\"актер\"', engine='python')"
   ]
  },
  {
   "cell_type": "code",
   "execution_count": null,
   "id": "90999355",
   "metadata": {},
   "outputs": [],
   "source": [
    "df_new['Photo'] = np.nan\n",
    "df_new['Gallery'] = np.nan\n",
    "df_new.head()"
   ]
  },
  {
   "cell_type": "code",
   "execution_count": null,
   "id": "54140408",
   "metadata": {},
   "outputs": [],
   "source": [
    "# Загрузка данных об изображениях актёров для их последующего парсинга с сайта kinpoisk.ru\n",
    "\n",
    "cnt = 0\n",
    "for i in tqdm_notebook(df_new.query('Photo.isnull() & Role==\"актер\"', engine='python').index):\n",
    "    kp_res = get_photo(df_new.loc[i, 'Kpoisk_id'])\n",
    "    try:\n",
    "        df_new.loc[i, 'Photo'] = kp_res[0]\n",
    "        df_new.loc[i, 'Gallery'] = kp_res[1]\n",
    "        cnt += 1\n",
    "        # через каждые 10 запросов сохрняем результаты в файл, чтобы не потерять\n",
    "        if cnt % 10 == 0:\n",
    "            df_new.to_csv(df_path + '/celebs_extended.csv')\n",
    "    except TypeError:\n",
    "        print('Error get data!')"
   ]
  },
  {
   "cell_type": "code",
   "execution_count": null,
   "id": "af16fcfc",
   "metadata": {},
   "outputs": [],
   "source": [
    "df_new.to_csv(df_path + '/celebs_extended.csv')\n",
    "df_new.head()"
   ]
  },
  {
   "cell_type": "code",
   "execution_count": null,
   "id": "c491acd5",
   "metadata": {},
   "outputs": [],
   "source": [
    "# Загрузка данных об изображениях актрис для их последующего парсинга с сайта kinpoisk.ru\n",
    "\n",
    "cnt = 0\n",
    "for i in tqdm_notebook(df_new.query('Photo.isnull() & Role==\"актриса\"', engine='python').index):\n",
    "    kp_res = get_photo(df_new.loc[i, 'Kpoisk_id'])\n",
    "    try:\n",
    "        df_new.loc[i, 'Photo'] = kp_res[0]\n",
    "        df_new.loc[i, 'Gallery'] = kp_res[1]\n",
    "        cnt += 1\n",
    "        # через каждые 10 запросов сохрняем результаты в файл, чтобы не потерять\n",
    "        if cnt % 10 == 0:\n",
    "            df_new.to_csv(df_path + '/celebs_extended.csv')\n",
    "    except TypeError:\n",
    "        print('Error get data!')"
   ]
  },
  {
   "cell_type": "code",
   "execution_count": null,
   "id": "493ab41a",
   "metadata": {},
   "outputs": [],
   "source": [
    "df_path = './Documents/DataScience/PET-project/config'\n",
    "df_new = pd.read_csv('./Documents/DataScience/PET-project/config/celebs_extended.csv')\n",
    "df_new.drop(['Unnamed: 0'], axis=1, inplace=True)\n",
    "df_new.to_csv(df_path + '/celebs_extended.csv')\n",
    "df_new.tail()"
   ]
  },
  {
   "cell_type": "markdown",
   "id": "6186e70a",
   "metadata": {},
   "source": [
    "Посмотрим сколько знаменитостей у нас отпало на данном этапе из-за того, что мы не смогли найти для них эталонных изображения их лиц."
   ]
  },
  {
   "cell_type": "code",
   "execution_count": null,
   "id": "67ea2cfc",
   "metadata": {},
   "outputs": [],
   "source": [
    "# Иностранные знаменитости\n",
    "df_new.query('Eng_name.notnull() & Role==\"актер\"', engine='python').shape[0] - \\\n",
    "df_new.query('Eng_name.notnull() & Photo.notnull() & Role==\"актер\"', engine='python').shape[0], \\\n",
    "df_new.query('Eng_name.notnull() & Role==\"актриса\"', engine='python').shape[0] - \\\n",
    "df_new.query('Eng_name.notnull() & Photo.notnull() & Role==\"актриса\"', engine='python').shape[0]"
   ]
  },
  {
   "cell_type": "code",
   "execution_count": null,
   "id": "c2787ceb",
   "metadata": {},
   "outputs": [],
   "source": [
    "# Отечественные знаменитости\n",
    "df_new.query('Eng_name.isnull() & Role==\"актер\"', engine='python').shape[0] - \\\n",
    "df_new.query('Eng_name.isnull() & Photo.notnull() & Role==\"актер\"', engine='python').shape[0],\\\n",
    "df_new.query('Eng_name.isnull() & Role==\"актриса\"', engine='python').shape[0] - \\\n",
    "df_new.query('Eng_name.isnull() & Photo.notnull() & Role==\"актриса\"', engine='python').shape[0]"
   ]
  },
  {
   "cell_type": "markdown",
   "id": "531b1a11",
   "metadata": {},
   "source": [
    "Теперь можно приступать к формированию базы данных лиц, на которых будет проводиться обучение моделей."
   ]
  },
  {
   "cell_type": "markdown",
   "id": "abf403fe",
   "metadata": {},
   "source": [
    "Создадим папку **sample_dataset**, в которую с разделением по полу знаменитостей и признаку отечественный/иностранный загрузим эталонные изображения лиц и сохраним их в отдельных папках по имени каждого актёра или актрисы."
   ]
  },
  {
   "cell_type": "code",
   "execution_count": null,
   "id": "bc2d0ce3",
   "metadata": {},
   "outputs": [],
   "source": [
    "# функция загрузки таргет изображений знаменитостей\n",
    "\n",
    "def get_sample_images(df, gender='men', natio='eng'):\n",
    "    df_path = './Documents/DataScience/PET-project'\n",
    "    \n",
    "    # проверяем наличие папки sample_dataset и при необходимости создаём её\n",
    "    if os.path.exists(f'{df_path}/sample_dataset/') != True:\n",
    "        os.mkdir(f'{df_path}/sample_dataset/')\n",
    "                 \n",
    "    # проверяем наличие подпапки разделения по полу и при необходимости создаём её\n",
    "    if os.path.exists(f'{df_path}/sample_dataset/{gender}') != True:\n",
    "        os.mkdir(f'{df_path}/sample_dataset/{gender}')\n",
    "        \n",
    "    # проверяем наличие подпапки разделения по признаку отечественный/иностранный и при необходимости создаём её\n",
    "    if os.path.exists(f'{df_path}/sample_dataset/{gender}/{natio}') != True:\n",
    "        os.mkdir(f'{df_path}/sample_dataset/{gender}/{natio}')\n",
    "        \n",
    "    if natio == 'eng':\n",
    "        req = 'Eng_name.notnull()'\n",
    "        name = 'Eng_name'\n",
    "    if natio == 'rus':\n",
    "        req = 'Eng_name.isnull()'\n",
    "        name = 'Rus_name'\n",
    "        \n",
    "    if gender == 'men':\n",
    "        role = 'актер'\n",
    "    if gender == 'women':\n",
    "        role = 'актриса'\n",
    "                 \n",
    "    # пройдемся по каждому имени знаменитости\n",
    "    for face in notebook.tqdm(list(df.query(f'{req} & Photo.notnull() & Role==\"{role}\"', engine='python')[f'{name}'].values)):\n",
    "        face = face.strip()\n",
    "        \n",
    "        if os.path.exists(f'{df_path}/sample_dataset/{gender}/{natio}/{face}') != True:\n",
    "            os.mkdir(f'{df_path}/sample_dataset/{gender}/{natio}/{face}')\n",
    "        else:\n",
    "            print(f'Images for {face} already uploaded!')\n",
    "            continue\n",
    "            \n",
    "        ind = df.query(f'{name}==\"{face}\"').index\n",
    "        img = df.iloc[ind[0]]['Photo']\n",
    "        \n",
    "        # загрузка фото с kinopoisk\n",
    "        try:\n",
    "            resp = requests.get(f'http://avatars.mds.yandex.net/get-kinopoisk-image/' + img)\n",
    "        except TypeError:\n",
    "            continue\n",
    "            \n",
    "        with open(f'{df_path}/sample_dataset/{gender}/{natio}/{face}/256.jpg', 'wb') as f:\n",
    "            f.write(resp.content)\n",
    "            \n",
    "        print('%s picture parsed succefull!' % face)"
   ]
  },
  {
   "cell_type": "code",
   "execution_count": null,
   "id": "a20611d9",
   "metadata": {},
   "outputs": [],
   "source": [
    "from tqdm import notebook"
   ]
  },
  {
   "cell_type": "code",
   "execution_count": null,
   "id": "664e2f59",
   "metadata": {},
   "outputs": [],
   "source": [
    "# загрузка таргет изображений иностранных актёров\n",
    "get_sample_images(df_new)"
   ]
  },
  {
   "cell_type": "code",
   "execution_count": null,
   "id": "0ece2c8e",
   "metadata": {},
   "outputs": [],
   "source": [
    "# загрузка таргет изображений иностранных актрис\n",
    "get_sample_images(df_new, gender='women')"
   ]
  },
  {
   "cell_type": "code",
   "execution_count": null,
   "id": "88bee612",
   "metadata": {},
   "outputs": [],
   "source": [
    "# загрузка таргет изображений отечественных актёров\n",
    "get_sample_images(df_new, natio='rus')"
   ]
  },
  {
   "cell_type": "code",
   "execution_count": null,
   "id": "026d9dfc",
   "metadata": {},
   "outputs": [],
   "source": [
    "# загрузка таргет изображений отечественных актрис\n",
    "get_sample_images(df_new, gender='women', natio='rus')"
   ]
  },
  {
   "cell_type": "markdown",
   "id": "6a42328f",
   "metadata": {},
   "source": [
    "Создадим папку **gallery**, в которую с разделением по полу знаменитостей и признаку отечественный/иностранный загрузим галерею изображений, доступных на сайте kinopoisk, и сохраним их в отдельных папках по имени каждого актёра или актрисы."
   ]
  },
  {
   "cell_type": "code",
   "execution_count": null,
   "id": "899d464f",
   "metadata": {},
   "outputs": [],
   "source": [
    "# функция загрузки галереи изображений знаменитостей с сайта kinopoisk\n",
    "\n",
    "def get_gallery_images(df, gender='men', natio='eng'):\n",
    "    df_path = './Documents/DataScience/PET-project'\n",
    "    \n",
    "    # проверяем наличие папки gallery и при необходимости создаём её\n",
    "    if os.path.exists(f'{df_path}/gallery/') != True:\n",
    "        os.mkdir(f'{df_path}/gallery/')\n",
    "        \n",
    "    # проверяем наличие подпапки разделения по полу и при необходимости создаём её\n",
    "    if os.path.exists(f'{df_path}/gallery/{gender}') != True:\n",
    "        os.mkdir(f'{df_path}/gallery/{gender}')\n",
    "        \n",
    "    # проверяем наличие подпапки разделения по признаку отечественный/иностранный и при необходимости создаём её\n",
    "    if os.path.exists(f'{df_path}/gallery/{gender}/{natio}') != True:\n",
    "        os.mkdir(f'{df_path}/gallery/{gender}/{natio}')\n",
    "    \n",
    "    if natio == 'eng':\n",
    "        req = 'Eng_name.notnull()'\n",
    "        name = 'Eng_name'\n",
    "    if natio == 'rus':\n",
    "        req = 'Eng_name.isnull()'\n",
    "        name = 'Rus_name'\n",
    "        \n",
    "    if gender == 'men':\n",
    "        role = 'актер'\n",
    "    if gender == 'women':\n",
    "        role = 'актриса'\n",
    "        \n",
    "    # пройдемся по каждому имени\n",
    "    for face in notebook.tqdm(list(df.query(f'{req} & Gallery.notnull() & Role==\"{role}\"', engine='python')[f'{name}'].values)):\n",
    "        face = face.strip()\n",
    "        \n",
    "        if os.path.exists(f'{df_path}/gallery/{gender}/{natio}/{face}') != True:\n",
    "            os.mkdir(f'{df_path}/gallery/{gender}/{natio}/{face}')\n",
    "        else:\n",
    "            print(f'Images for {face} already uploaded!')\n",
    "            continue\n",
    "        \n",
    "        ind = df.query(f'{name}==\"{face}\"').index\n",
    "        gallery = df.iloc[ind[0]]['Gallery']\n",
    "        \n",
    "        try:\n",
    "            nums = gallery.split(';')\n",
    "        except AttributeError:\n",
    "            continue\n",
    "            \n",
    "        i = 0\n",
    "        for num in nums:\n",
    "            i += 1\n",
    "            # загрузка фото с kinopoisk\n",
    "            try:\n",
    "                resp = requests.get(f'http://st.kp.yandex.net/images/kadr/{num}.jpg')\n",
    "            except TypeError:\n",
    "                continue\n",
    "            \n",
    "            with open(f'{df_path}/gallery/{gender}/{natio}/{face}/Image_{i}.jpg', 'wb') as f:\n",
    "                f.write(resp.content)\n",
    "        \n",
    "        print('%s :: gallery parsed succefull!' % face)"
   ]
  },
  {
   "cell_type": "code",
   "execution_count": null,
   "id": "c20f2d90",
   "metadata": {},
   "outputs": [],
   "source": [
    "# загрузка галереи изображений иностранных актёров\n",
    "get_gallery_images(df_new)"
   ]
  },
  {
   "cell_type": "code",
   "execution_count": null,
   "id": "f0a0c961",
   "metadata": {},
   "outputs": [],
   "source": [
    "# загрузка галереи изображений иностранных актрис\n",
    "get_gallery_images(df_new, gender='women')"
   ]
  },
  {
   "cell_type": "code",
   "execution_count": null,
   "id": "2b84da91",
   "metadata": {},
   "outputs": [],
   "source": [
    "# загрузка галереи изображений отечественных актёров\n",
    "get_gallery_images(df_new, natio='rus')"
   ]
  },
  {
   "cell_type": "code",
   "execution_count": null,
   "id": "06c74f04",
   "metadata": {},
   "outputs": [],
   "source": [
    "# загрузка галереи изображений отечественных актрис\n",
    "get_gallery_images(df_new, gender='women', natio='rus')"
   ]
  },
  {
   "cell_type": "markdown",
   "id": "4637222c",
   "metadata": {},
   "source": [
    "Произведём сжатие/растяжений эталонных изображений из папки **sample_dataset** до 256 px по меньшей стороне, как правило, это будет ширина, чтобы уменьшить место занимаемое изображениями на диске и провести их некоторую стандартизацию."
   ]
  },
  {
   "cell_type": "code",
   "execution_count": null,
   "id": "5e4b5cf1",
   "metadata": {
    "scrolled": true
   },
   "outputs": [],
   "source": [
    "SIZE = 256"
   ]
  },
  {
   "cell_type": "code",
   "execution_count": null,
   "id": "17465cc5",
   "metadata": {},
   "outputs": [],
   "source": [
    "from PIL import Image\n",
    "import glob"
   ]
  },
  {
   "cell_type": "code",
   "execution_count": null,
   "id": "2bd6b0d1",
   "metadata": {},
   "outputs": [],
   "source": [
    "# функция сжатия эталонных изображений знаменитостей\n",
    "\n",
    "def image_compress(gender='men'):\n",
    "    nation = ['eng', 'rus']\n",
    "    for natio in nation:\n",
    "        folders = glob.glob(f'./Documents/DataScience/PET-project/sample_dataset/{gender}/{natio}/*')\n",
    "        \n",
    "        for face in folders:\n",
    "            face = face.strip()\n",
    "            \n",
    "            # выгрузим все файлы из подпапок\n",
    "            i = f'{face}/256.jpg'\n",
    "            \n",
    "            try:\n",
    "                # откроем изображение\n",
    "                image = Image.open(i)\n",
    "                # получим его размер\n",
    "                size = image.size\n",
    "                \n",
    "                # определим наименьшую сторону\n",
    "                if size[0] < size[1]:\n",
    "                    min_size = size[0]\n",
    "                else:\n",
    "                    min_size = size[1]\n",
    "                \n",
    "                # получим коэффициент, на который нужно уменьшить/увеличить\n",
    "                # изображение по одной из сторон до 256\n",
    "                \n",
    "                coef = SIZE / min_size\n",
    "                # изменяем размер изображения\n",
    "                resized_image = image.resize((int(size[0] * coef), int(size[1] * coef)))\n",
    "                resized_image = resized_image.convert('RGB')\n",
    "                \n",
    "                # сохраняем изображение измененного размера\n",
    "                resized_image.save(i)\n",
    "            except FileNotFoundError:\n",
    "                print('File: %s - not found!' % i)"
   ]
  },
  {
   "cell_type": "code",
   "execution_count": null,
   "id": "8cc4bda3",
   "metadata": {},
   "outputs": [],
   "source": [
    "# сжатие эталонных изображений актёров\n",
    "image_compress()"
   ]
  },
  {
   "cell_type": "code",
   "execution_count": null,
   "id": "8ef2774b",
   "metadata": {},
   "outputs": [],
   "source": [
    "# сжатие эталонных изображений актрис\n",
    "image_compress(gender='women')"
   ]
  },
  {
   "cell_type": "markdown",
   "id": "94d0812b",
   "metadata": {},
   "source": [
    "Произведём обрезку изображений для выделения лиц знаменитостей из папки **gallery** с последующий сжатием/растяжением для эконономии места на диске, занимаемом изображениями, стандартизации изображений и сокращения времени на последующее распознавание лиц."
   ]
  },
  {
   "cell_type": "code",
   "execution_count": null,
   "id": "13cfbacd",
   "metadata": {},
   "outputs": [],
   "source": [
    "import face_recognition"
   ]
  },
  {
   "cell_type": "code",
   "execution_count": null,
   "id": "18df595c",
   "metadata": {},
   "outputs": [],
   "source": [
    "# функция для определения координат лиц на фотографии\n",
    "def image_cropper(img):\n",
    "    # загружаем при помощи face_recognition изображение\n",
    "    image = face_recognition.load_image_file(img)\n",
    "    # получаем координаты расположения лица (top-right, bottom-left)\n",
    "    face_locations = face_recognition.face_locations(image)\n",
    "    \n",
    "    # если лицо не распозднается face_recognition, то удаляем это изображение\n",
    "    if face_locations == []:\n",
    "        os.remove(img)\n",
    "        print('[%] Image: {} delete!'.format(img))\n",
    "    else:\n",
    "        face_width_coord_bigger = face_locations[0][1]\n",
    "        face_width_coord_smaller = face_locations[0][3]\n",
    "        \n",
    "        face_height_coord_bigger = face_locations[0][2]\n",
    "        face_height_coord_smaller = face_locations[0][0]\n",
    "        \n",
    "        face_width_frame = int((face_width_coord_bigger - face_width_coord_smaller) * 0.4)\n",
    "        face_height_frame = int((face_height_coord_bigger - face_height_coord_smaller) * 0.6)\n",
    "        \n",
    "        # загрузка изображения\n",
    "        image = Image.open(img)\n",
    "        # получение размеров изображения\n",
    "        size = image.size\n",
    "        \n",
    "        # получение ширины и высоты\n",
    "        width = image.size[0]\n",
    "        height = image.size[1]\n",
    "        \n",
    "        # вычисление новых координат для кропа\n",
    "        # координата слева\n",
    "        if face_width_coord_smaller - face_width_frame > 0:\n",
    "            left = face_width_coord_smaller - face_width_frame\n",
    "        else:\n",
    "            left = 0\n",
    "            \n",
    "        # координата сверху\n",
    "        if face_height_coord_smaller - face_height_frame > 0:\n",
    "            top = face_height_coord_smaller - face_height_frame\n",
    "        else:\n",
    "            top = 0\n",
    "            \n",
    "        # координата справа\n",
    "        if face_width_coord_bigger + face_width_frame < width:\n",
    "            right = face_width_coord_bigger + face_width_frame\n",
    "        else:\n",
    "            right = width\n",
    "            \n",
    "        # координата снизу\n",
    "        if face_height_coord_bigger + face_height_frame < height:\n",
    "            bottom = face_height_coord_bigger + face_height_frame\n",
    "        else:\n",
    "            bottom = height\n",
    "            \n",
    "        # кроп изображения\n",
    "        resized_image = image.crop((left, top, right, bottom))\n",
    "        resized_image.save(img)"
   ]
  },
  {
   "cell_type": "code",
   "execution_count": null,
   "id": "0873ca65",
   "metadata": {},
   "outputs": [],
   "source": [
    "# функция обрезки изображений знаменитостей из папки gallery для сохранения фрагментов с лицами\n",
    "\n",
    "def image_compress(gender='men'):\n",
    "    nation = ['eng', 'rus']\n",
    "    for natio in nation:\n",
    "        folders = glob.glob(f'./Documents/DataScience/PET-project/gallery/{gender}/{natio}/*')\n",
    "        \n",
    "        # пройдемся по каждому имени\n",
    "        for face in notebook.tqdm(folders):\n",
    "            face = face.strip()\n",
    "            \n",
    "            # выгрузим все название файлов из папки\n",
    "            files = glob.glob(f'{face}/*')\n",
    "            \n",
    "            # пройдемся по списку файлов в цикле\n",
    "            for img_file in files:\n",
    "                try:\n",
    "                    # обрезка изображений\n",
    "                    image_cropper(img_file)\n",
    "                    print('[%] Image: {} succefull cropped!\\n'.format(img_file))\n",
    "                except:\n",
    "                    print('[!] Error crop image: {}\\n'.format(img_file))\n",
    "                    continue"
   ]
  },
  {
   "cell_type": "code",
   "execution_count": null,
   "id": "2ba19d87",
   "metadata": {},
   "outputs": [],
   "source": [
    "# обрезка галлереи изображений актёров\n",
    "image_compress()"
   ]
  },
  {
   "cell_type": "code",
   "execution_count": null,
   "id": "9f084fca",
   "metadata": {},
   "outputs": [],
   "source": [
    "# обрезка галлереи изображений актрис\n",
    "image_compress(gender='women')"
   ]
  },
  {
   "cell_type": "markdown",
   "id": "cdf8b0da",
   "metadata": {},
   "source": [
    "После выделения и сохранения в папке **gallery** из изображений фрагментов с лицами знаменитостей, полученные фотографии можно также сжать до 256 пикселей по наименьшей стороне."
   ]
  },
  {
   "cell_type": "code",
   "execution_count": null,
   "id": "8ef16541",
   "metadata": {},
   "outputs": [],
   "source": [
    "# функция сжатия/расширение изображений знаменитостей в папке gallery\n",
    "\n",
    "def images_gallery_compress(gender='men'):\n",
    "    nation = ['eng', 'rus']\n",
    "    for natio in nation:\n",
    "        folders = glob.glob(f'./Documents/DataScience/PET-project/gallery/{gender}/{natio}/*')\n",
    "        \n",
    "        for face in notebook.tqdm(folders):\n",
    "            face = face.strip()\n",
    "            \n",
    "            # выгрузим все названия файлов из подпапок знаменитостей\n",
    "            files = glob.glob(f'{face}/*')\n",
    "            \n",
    "            for img_file in files:\n",
    "                # обрезка изображений\n",
    "                try:\n",
    "                    try:\n",
    "                        # откроем изображение\n",
    "                        image = Image.open(img_file)\n",
    "                        # получим его размер\n",
    "                        size = image.size\n",
    "                    except:\n",
    "                        continue\n",
    "                    \n",
    "                    # определим его наименьшую сторону\n",
    "                    if size[0] < size[1]:\n",
    "                        min_size = size[0]\n",
    "                    else:\n",
    "                        min_size = size[1]\n",
    "                    \n",
    "                    # получим коэффициент, на который нужно уменьшить/увеличить\n",
    "                    # изображение по одной из сторон до 256\n",
    "                    coef = SIZE / min_size\n",
    "                    \n",
    "                    # изменяем размер изображения\n",
    "                    resized_image = image.resize((int(size[0] * coef), int(size[1] * coef)))\n",
    "                    resized_image = resized_image.convert('RGB')\n",
    "                    # сохраняем изображение в новом размере\n",
    "                    resized_image.save(img_file)\n",
    "                except FileNotFoundError:\n",
    "                    print('File: %s - not found!' % i)"
   ]
  },
  {
   "cell_type": "code",
   "execution_count": null,
   "id": "1daf0a54",
   "metadata": {},
   "outputs": [],
   "source": [
    "# сжатие/растяжение галлереи изображений актёров\n",
    "images_gallery_compress()"
   ]
  },
  {
   "cell_type": "code",
   "execution_count": null,
   "id": "954ba8ed",
   "metadata": {},
   "outputs": [],
   "source": [
    "# сжатие/растяжение галлереи изображений актрис\n",
    "images_gallery_compress(gender='women')"
   ]
  },
  {
   "cell_type": "markdown",
   "id": "8d446e05",
   "metadata": {},
   "source": [
    "В результате проведенных операций по сжатию и обрезке изображений объём дискового пространства, занимаемого фотографиями лиц знаменитостей, удалось сократить с примерно 9 Гб до 500 Мб."
   ]
  },
  {
   "cell_type": "markdown",
   "id": "ed7162dc",
   "metadata": {},
   "source": [
    "Анализ полученных изображений показал, что в галерею достаточно часто попадают не самые лучшие изображения лиц. Например, они могут быть сфотографированы с очень сильно повёрнутой в любую сторону головой, прикрыты солнцезащитными очками и другими предметами или руками и так далее. При этом, в Кинопоиске содержатся дополнительные галереи знаменитостей из которых могут быть получены изображения лиц подходящего для обучения моделей качества."
   ]
  },
  {
   "cell_type": "markdown",
   "id": "dc69aad9",
   "metadata": {},
   "source": [
    "Принято решение добавить эти изображения к уже полученым для формирования качественного датасета изображений лиц знаменитостей для последующего обучения моделей. Страницы с этими изображениями находятся по URL-адресам вида https://www.kinopoisk.ru/name/{id}/photos/, где {id} id-идентификатор знаменитости на Кинопоиске. В результате парсинга страниц будут получены ссылки изображения в виде https://avatars.mds.yandex.net/get-kinopoisk-image/1900788/b0bd9fe2-f3e3-4133-afcc-fa0eac0fc7fc/1920x. Части URL изображения в начале **https://avatars.mds.yandex.net/get-kinopoisk-image** и **1920x** в конце являются общими для каждого изображения и могут быть отброшены при сохранении в базу."
   ]
  },
  {
   "cell_type": "markdown",
   "id": "502dc6fe",
   "metadata": {},
   "source": [
    "В качестве разделителя при сохранении изображений в датафрейм принято решение использовать двойную точку с запятой **;;** в новую колонку **Img_urls**. Если в процессе парсинга будет обнаружено, что для конкретной знаменитости существует несколько страниц с дополнительными изображениями, то номера этих страниц будут также сохранены в новую колонку **Img_pages** с разделителем в виде одинарной точки с запятой **;** для последующего парсинга с них дополнительных изображений."
   ]
  },
  {
   "cell_type": "code",
   "execution_count": null,
   "id": "4a3124ed",
   "metadata": {},
   "outputs": [],
   "source": [
    "import random\n",
    "import re"
   ]
  },
  {
   "cell_type": "code",
   "execution_count": null,
   "id": "763dbb61",
   "metadata": {},
   "outputs": [],
   "source": [
    "cookies = ['i=za6sI7RI5Cp1qewNd8XHCd8ZSc2yPGHP3DZSDaf6YdBJBrZfxJ39j8I5etbsE59ijMG3+v1YXi0ePk0tXyUifGalOcQ=;',\n",
    "           ' mda_exp_enabled=1; gdpr=0; _ym_uid=1622705461262579387;', \n",
    "           ' _ym_d=1640004873;',\n",
    "           ' ya_sess_id=3:1639984242.5.0.1589825517989:FMaRJQ:8.1|9572252.0.2|30:203735.635399.N-c8fHyDYIpoqQ1_R5jORt-6nJY;',\n",
    "           ' yandex_login=olegoff; yandexuid=1611715171589748827; mda2_beacon=1639984242768;',\n",
    "           ' my_perpages=%5B%5D; users_info[check_sh_bool]=none; tc=431; mobile=no;',\n",
    "           ' cycada=PmEQEPRadGGzAZU1ExaQmSga1Sjs0ExfG9qXqqDsBeQ=; is_gdpr=0;',\n",
    "           ' PHPSESSID=j40blgdb3htj1irab9el8ktsu7; yandex_gid=35; uid=25438931;',\n",
    "           ' _csrf_csrf_token=EX617llh6bIoKxiiziaQj3VmF1JEHrXW6SOEW2wsMRA;',\n",
    "           ' desktop_session_key=85266d0f4c3cc027a6006d6805916b0bd3c030169a06eb72be43b5a8c1cc1e865d0676eda8be326db81bd192',\n",
    "           'a53379f07ff352a16fee166aa1853f69c9caf0e6ba87778221b8c02be4891e2e8380a1fb5afd955a410baeaacd98d7a8b17b77d3;',\n",
    "           ' desktop_session_key.sig=_xzV3qLXTFGBUE7VdgVkTKzKQ8M; _csrf=yqrOt6hMtn0xf6sRbKxM91SM;',\n",
    "           ' ys=udn.cDpvbGVnb2Zm#c_chck.1387243862; _ym_isad=2; user_country=ru']"
   ]
  },
  {
   "cell_type": "code",
   "execution_count": null,
   "id": "949785de",
   "metadata": {},
   "outputs": [],
   "source": [
    "headers = {'Accept': 'text/html,application/xhtml+xml,application/xml;q=0.9,image/avif,image/webp,*/*;q=0.8',\n",
    "           'Accept-Encoding': 'gzip, deflate, br',\n",
    "           'Accept-Language': 'ru-RU,ru;q=0.8,en-US;q=0.5,en;q=0.3',\n",
    "           'Cache-Control': 'max-age=0',\n",
    "           'Connection': 'keep-alive',\n",
    "           'Cookie': ''.join(cookies),\n",
    "           'Host': 'www.kinopoisk.ru',\n",
    "           'Referer': 'https://www.kinopoisk.ru/picture/2131681/',\n",
    "           'Sec-Fetch-Dest': 'document',\n",
    "           'Sec-Fetch-Mode': 'navigate',\n",
    "           'Sec-Fetch-Site': 'same-origin',\n",
    "           'Sec-Fetch-User': '?1',\n",
    "           'TE': 'trailers',\n",
    "           'Upgrade-Insecure-Requests': '1',\n",
    "           'User-Agent': 'Mozilla/5.0 (Windows NT 10.0; Win64; x64; rv:95.0) Gecko/20100101 Firefox/95.0'}"
   ]
  },
  {
   "cell_type": "code",
   "execution_count": null,
   "id": "2131cb01",
   "metadata": {},
   "outputs": [],
   "source": [
    "# функция загрузки дополнительных изображений знаменитостей с сайта kinopoisk\n",
    "def get_additional_images_urls(name, p=1, headers=headers, cookies=cookies):\n",
    "    # Загрузка исходного кода страницы и получение ссылок на изображения\n",
    "    if p == 1:\n",
    "        request_url = f'https://www.kinopoisk.ru/name/{name}/photos/'\n",
    "    else:\n",
    "        request_url = f'https://www.kinopoisk.ru/name/{name}/photos/page/{p}/'\n",
    "\n",
    "    try:\n",
    "        request = urllib.request.Request(request_url, None, headers={**headers})\n",
    "        response = urllib.request.urlopen(request)\n",
    "\n",
    "        unzip = zlib.decompress(response.read(), 16+zlib.MAX_WBITS)\n",
    "        html = unzip.decode('utf8')\n",
    "        \n",
    "        # получение url-адресов изображений и количества страниц с изображениями\n",
    "        if 'checkcaptcha' in html:\n",
    "            print('Achtung CAPTCHA! Game Over!')\n",
    "            return ['captcha', 'captcha']\n",
    "        else:\n",
    "            images_urls = re.findall(\" <img[^>]*src=[\\\"|\\'](.+?)220x330\", html)\n",
    "            images = ';;'.join([i[50:] for i in images_urls]) + ';;'\n",
    "            \n",
    "            nums = re.findall(\" <li >[^>]{1,}>(.+?)<\", html)\n",
    "            pages = ';'.join([x for i, x in enumerate(nums) if i == nums.index(x)])\n",
    "            \n",
    "            print('Id: %s, количество дополнительных изображений: %s' % (name, str(len(images_urls))))\n",
    "            return [images, pages]\n",
    "    except urllib.error.HTTPError as exception:\n",
    "        print('Id: %s, ошибка 404: Страница не найдена!' % name)\n",
    "        return [np.nan, np.nan]"
   ]
  },
  {
   "cell_type": "code",
   "execution_count": null,
   "id": "37b94176",
   "metadata": {},
   "outputs": [],
   "source": [
    "df_new['Img_urls'] = np.nan\n",
    "df_new['Img_pages'] = np.nan\n",
    "df_new.head()"
   ]
  },
  {
   "cell_type": "code",
   "execution_count": null,
   "id": "c3bbd67b",
   "metadata": {},
   "outputs": [],
   "source": [
    "# Загрузка url-адресов дополнительных изображений знаменитостей для их последующего парсинга с сайта kinpoisk.ru\n",
    "\n",
    "cnt = 0\n",
    "#for i in notebook.tqdm(df_new.query('Img_urls.isnull() & Role==\"актер\"', engine='python').index):\n",
    "for i in notebook.tqdm(df_new.query('Eng_name.isnull() & Img_urls.isnull() & Role==\"актер\"', engine='python').index):\n",
    "    add_res = get_additional_images_urls(df_new.loc[i, 'Kpoisk_id'])\n",
    "         \n",
    "    # остановка цикла, если кинопоиск стал выбрасывать капчу\n",
    "    if add_res[0] == 'captcha' or add_res[1] == 'captcha':\n",
    "        break\n",
    "    # добавление полученных данных в датафрейм\n",
    "    try:\n",
    "        if pd.isnull(df_new.loc[i, 'Img_urls']):\n",
    "            df_new.loc[i, 'Img_urls'] = add_res[0]\n",
    "        else:\n",
    "            df_new.loc[i, 'Img_urls'] = f\"{df_new.loc[i, 'Img_urls']}\" + add_res[0]\n",
    "        \n",
    "        df_new.loc[i, 'Img_pages'] = add_res[1]\n",
    "        \n",
    "        cnt += 1\n",
    "        # через каждые 5 запросов сохрняем результаты в файл, чтобы не потерять\n",
    "        if cnt % 5 == 0:\n",
    "            df_new.to_csv(df_path + '/celebs_final.csv')\n",
    "    except TypeError:\n",
    "        print('Error get data!')\n",
    "\n",
    "    time.sleep(random.randrange(2, 5))"
   ]
  },
  {
   "cell_type": "code",
   "execution_count": null,
   "id": "553d59c8",
   "metadata": {},
   "outputs": [],
   "source": [
    "# Загрузка url-адресов дополнительных изображений знаменитостей для их последующего парсинга с сайта kinpoisk.ru\n",
    "\n",
    "cnt = 0\n",
    "for i in notebook.tqdm(df_new.query('Img_urls.isnull() & Role==\"актриса\"', engine='python').index):\n",
    "    add_res = get_additional_images_urls(df_new.loc[i, 'Kpoisk_id'])\n",
    "         \n",
    "    # остановка цикла, если кинопоиск стал выбрасывать капчу\n",
    "    if add_res[0] == 'captcha' or add_res[1] == 'captcha':\n",
    "        break\n",
    "    # добавление полученных данных в датафрейм\n",
    "    try:\n",
    "        if pd.isnull(df_new.loc[i, 'Img_urls']):\n",
    "            df_new.loc[i, 'Img_urls'] = add_res[0]\n",
    "        else:\n",
    "            df_new.loc[i, 'Img_urls'] = f\"{df_new.loc[i, 'Img_urls']}\" + add_res[0]\n",
    "        \n",
    "        df_new.loc[i, 'Img_pages'] = add_res[1]\n",
    "        \n",
    "        cnt += 1\n",
    "        # через каждые 5 запросов сохрняем результаты в файл, чтобы не потерять\n",
    "        if cnt % 5 == 0:\n",
    "            df_new.to_csv(df_path + '/celebs_final.csv')\n",
    "    except TypeError:\n",
    "        print('Error get data!')\n",
    "        \n",
    "    time.sleep(random.randrange(7, 19))"
   ]
  },
  {
   "cell_type": "code",
   "execution_count": null,
   "id": "b0e0b45e",
   "metadata": {},
   "outputs": [],
   "source": [
    "df_new.head()"
   ]
  },
  {
   "cell_type": "code",
   "execution_count": null,
   "id": "9f3bbda9",
   "metadata": {},
   "outputs": [],
   "source": [
    "df_new.to_csv(df_path + '/celebs_final.csv')"
   ]
  },
  {
   "cell_type": "code",
   "execution_count": null,
   "id": "08534665",
   "metadata": {},
   "outputs": [],
   "source": [
    "df_new.query('Img_pages!=\"\" & Img_pages.notnull() & Eng_name==\"Odette Annable\"', engine='python')"
   ]
  },
  {
   "cell_type": "markdown",
   "id": "bd535c65",
   "metadata": {},
   "source": [
    "Посмотрим на то, что мы получили после парсинга первых страниц с галереями изображений знаменитостей. Знаменитостей, у которых только две страницы:"
   ]
  },
  {
   "cell_type": "code",
   "execution_count": null,
   "id": "5c05e5fb",
   "metadata": {},
   "outputs": [],
   "source": [
    "df_new.query('Img_pages==\"2\"', engine='python').shape[0]"
   ]
  },
  {
   "cell_type": "markdown",
   "id": "3860f418",
   "metadata": {},
   "source": [
    "Знаменитостей, у который страниц в галереи изображений три:"
   ]
  },
  {
   "cell_type": "code",
   "execution_count": null,
   "id": "479da4c6",
   "metadata": {},
   "outputs": [],
   "source": [
    "df_new.query('Img_pages==\"2;3\"', engine='python').shape[0]"
   ]
  },
  {
   "cell_type": "markdown",
   "id": "03e7312d",
   "metadata": {},
   "source": [
    "Знаменитостей, у которых страниц в галерее изображений четыре и более:"
   ]
  },
  {
   "cell_type": "code",
   "execution_count": null,
   "id": "ff7e0c5d",
   "metadata": {},
   "outputs": [],
   "source": [
    "df_new.query('Img_pages==\"2;3;4\"', engine='python').shape[0]"
   ]
  },
  {
   "cell_type": "code",
   "execution_count": null,
   "id": "8bcba7d3",
   "metadata": {},
   "outputs": [],
   "source": [
    "df_new.query('Img_pages!=\"\" & Img_pages.notnull()', engine='python').index"
   ]
  },
  {
   "cell_type": "markdown",
   "id": "bdd75316",
   "metadata": {},
   "source": [
    "Загрузка URL-адресов дополнительных изображений знаменитостей со 2 страницы для их последующего парсинга с сайта Kinopoisk.ru."
   ]
  },
  {
   "cell_type": "code",
   "execution_count": null,
   "id": "0381cd4e",
   "metadata": {},
   "outputs": [],
   "source": [
    "# Загрузка url-адресов дополнительных изображений знаменитостей со 2 страницы для их последующего парсинга с сайта kinpoisk.ru\n",
    "\n",
    "cnt = 0\n",
    "for i in notebook.tqdm(df_new.query('Img_pages!=\"\" & Img_pages.notnull()', engine='python').index):\n",
    "    add_res = get_additional_images_urls(df_new.loc[i, 'Kpoisk_id'], p=2)\n",
    "         \n",
    "    # остановка цикла, если кинопоиск стал выбрасывать капчу\n",
    "    if add_res[0] == 'captcha' or add_res[1] == 'captcha':\n",
    "        break\n",
    "    # добавление полученных данных в датафрейм\n",
    "    try:\n",
    "        if pd.isnull(df_new.loc[i, 'Img_urls']):\n",
    "            df_new.loc[i, 'Img_urls'] = add_res[0]\n",
    "        else:\n",
    "            df_new.loc[i, 'Img_urls'] = f\"{df_new.loc[i, 'Img_urls']}\" + add_res[0]\n",
    "        \n",
    "        #df_new.loc[i, 'Img_pages'] = add_res[1]\n",
    "        \n",
    "        cnt += 1\n",
    "        # через каждые 5 запросов сохрняем результаты в файл, чтобы не потерять\n",
    "        if cnt % 5 == 0:\n",
    "            df_new.to_csv(df_path + '/celebs_final.csv')\n",
    "    except TypeError:\n",
    "        print('Error get data!')\n",
    "\n",
    "    time.sleep(random.randrange(7, 15))"
   ]
  },
  {
   "cell_type": "code",
   "execution_count": null,
   "id": "f4529aea",
   "metadata": {},
   "outputs": [],
   "source": [
    "df_new.loc[1, 'Img_urls']"
   ]
  },
  {
   "cell_type": "code",
   "execution_count": null,
   "id": "9f70ed16",
   "metadata": {},
   "outputs": [],
   "source": [
    "df_new.loc[1, 'Img_pages']"
   ]
  },
  {
   "cell_type": "code",
   "execution_count": null,
   "id": "e1858d32",
   "metadata": {},
   "outputs": [],
   "source": [
    "df_new.to_csv(df_path + '/celebs_final.csv')"
   ]
  },
  {
   "cell_type": "markdown",
   "id": "41fb7a5a",
   "metadata": {},
   "source": [
    "Загрузка URL-адресов дополнительных изображений знаменитостей с 3 страницы для их последующего парсинга с сайта Kinopoisk.ru."
   ]
  },
  {
   "cell_type": "code",
   "execution_count": null,
   "id": "7eb7a60d",
   "metadata": {},
   "outputs": [],
   "source": [
    "# Загрузка url-адресов дополнительных изображений знаменитостей с 3 страницы для их последующего парсинга с сайта kinpoisk.ru\n",
    "\n",
    "cnt = 0\n",
    "for i in notebook.tqdm(df_new.query('Img_pages==\"2;3\"', engine='python').index):\n",
    "    add_res = get_additional_images_urls(df_new.loc[i, 'Kpoisk_id'], p=3)\n",
    "         \n",
    "    # остановка цикла, если кинопоиск стал выбрасывать капчу\n",
    "    if add_res[0] == 'captcha' or add_res[1] == 'captcha':\n",
    "        break\n",
    "    # добавление полученных данных в датафрейм\n",
    "    try:\n",
    "        if pd.isnull(df_new.loc[i, 'Img_urls']):\n",
    "            df_new.loc[i, 'Img_urls'] = add_res[0]\n",
    "        else:\n",
    "            df_new.loc[i, 'Img_urls'] = f\"{df_new.loc[i, 'Img_urls']}\" + add_res[0]\n",
    "        \n",
    "        #df_new.loc[i, 'Img_pages'] = add_res[1]\n",
    "        \n",
    "        cnt += 1\n",
    "        # через каждые 5 запросов сохрняем результаты в файл, чтобы не потерять\n",
    "        if cnt % 5 == 0:\n",
    "            df_new.to_csv(df_path + '/celebs_final.csv')\n",
    "    except TypeError:\n",
    "        print('Error get data!')\n",
    "\n",
    "    time.sleep(random.randrange(7, 15))"
   ]
  },
  {
   "cell_type": "markdown",
   "id": "60406312",
   "metadata": {},
   "source": [
    "Загрузка URL-адресов дополнительных изображений знаменитостей с 4 страницы для их последующего парсинга с сайта Kinopoisk.ru."
   ]
  },
  {
   "cell_type": "code",
   "execution_count": null,
   "id": "4b980cea",
   "metadata": {},
   "outputs": [],
   "source": [
    "df_new.to_csv(df_path + '/celebs_final.csv')"
   ]
  },
  {
   "cell_type": "code",
   "execution_count": null,
   "id": "aa2be3d3",
   "metadata": {},
   "outputs": [],
   "source": [
    "# Загрузка url-адресов дополнительных изображений знаменитостей с 4 страницы для их последующего парсинга с сайта kinpoisk.ru\n",
    "\n",
    "cnt = 0\n",
    "for i in notebook.tqdm(df_new.query('Img_pages==\"2;3;4\"', engine='python').index):\n",
    "    add_res = get_additional_images_urls(df_new.loc[i, 'Kpoisk_id'], p=4)\n",
    "         \n",
    "    # остановка цикла, если кинопоиск стал выбрасывать капчу\n",
    "    if add_res[0] == 'captcha' or add_res[1] == 'captcha':\n",
    "        break\n",
    "    # добавление полученных данных в датафрейм\n",
    "    try:\n",
    "        if pd.isnull(df_new.loc[i, 'Img_urls']):\n",
    "            df_new.loc[i, 'Img_urls'] = add_res[0]\n",
    "        else:\n",
    "            df_new.loc[i, 'Img_urls'] = f\"{df_new.loc[i, 'Img_urls']}\" + add_res[0]\n",
    "        \n",
    "        # добавление новых страниц\n",
    "        add_nums = add_res[1].split(';')\n",
    "        nums = df_new.loc[i, 'Img_pages'].split(';')\n",
    "        new_nums = nums + add_nums\n",
    "        new_nums.sort()\n",
    "        uni_pages = ';'.join([x for i, x in enumerate(new_nums) if i == new_nums.index(x)])\n",
    "        df_new.loc[i, 'Img_pages'] = uni_pages\n",
    "        \n",
    "        cnt += 1\n",
    "        # через каждые 5 запросов сохрняем результаты в файл, чтобы не потерять\n",
    "        if cnt % 5 == 0:\n",
    "            df_new.to_csv(df_path + '/celebs_final.csv')\n",
    "    except TypeError:\n",
    "        print('Error get data!')\n",
    "\n",
    "    time.sleep(random.randrange(7, 15))"
   ]
  },
  {
   "cell_type": "code",
   "execution_count": null,
   "id": "2a96b8c1",
   "metadata": {},
   "outputs": [],
   "source": [
    "df_new.query('Img_pages==\"2;3;4\"', engine='python').index"
   ]
  },
  {
   "cell_type": "code",
   "execution_count": null,
   "id": "66d54a44",
   "metadata": {},
   "outputs": [],
   "source": [
    "df_new.to_csv(df_path + '/celebs_final.csv')"
   ]
  },
  {
   "cell_type": "markdown",
   "id": "23857fd5",
   "metadata": {},
   "source": [
    "Посмотрим на то, у скольки знаменитостей дополнительные изображения завершаются 5 страницей:"
   ]
  },
  {
   "cell_type": "code",
   "execution_count": null,
   "id": "f7fe11b4",
   "metadata": {},
   "outputs": [],
   "source": [
    "df_new.query('Img_pages==\"1;2;3;4;5\"', engine='python').shape[0]"
   ]
  },
  {
   "cell_type": "markdown",
   "id": "9cbb18b6",
   "metadata": {},
   "source": [
    "Посмотрим на то, у скольки знаменитостей дополнительные изображения завершаются 6 страницей:"
   ]
  },
  {
   "cell_type": "code",
   "execution_count": null,
   "id": "8163b192",
   "metadata": {},
   "outputs": [],
   "source": [
    "df_new.query('Img_pages==\"1;2;3;4;5;6\"', engine='python').shape[0]"
   ]
  },
  {
   "cell_type": "markdown",
   "id": "52d3823c",
   "metadata": {},
   "source": [
    "Посмотрим на то, у скольки знаменитостей дополнительные изображения завершаются 7 страницей:"
   ]
  },
  {
   "cell_type": "code",
   "execution_count": null,
   "id": "e3c229ff",
   "metadata": {},
   "outputs": [],
   "source": [
    "df_new.query('Img_pages==\"1;2;3;4;5;6;7\"', engine='python').shape[0]"
   ]
  },
  {
   "cell_type": "markdown",
   "id": "a2616ad2",
   "metadata": {},
   "source": [
    "Загрузка URL-адресов дополнительных изображений знаменитостей с 5 страницы для их последующего парсинга с сайта Kinopoisk.ru."
   ]
  },
  {
   "cell_type": "code",
   "execution_count": null,
   "id": "9257cdd9",
   "metadata": {},
   "outputs": [],
   "source": [
    "# Загрузка url-адресов дополнительных изображений знаменитостей с 5 страницы для их последующего парсинга с сайта kinpoisk.ru\n",
    "\n",
    "cnt = 0\n",
    "for i in notebook.tqdm(df_new.query('Img_pages==\"1;10;11;12;13;14;15;16;2;3;4;5;6;7;8;9\"', engine='python').index): # нужно менять строку запроса тут\n",
    "    add_res = get_additional_images_urls(df_new.loc[i, 'Kpoisk_id'], p=16) # нужно менять номер страницы тут\n",
    "         \n",
    "    # остановка цикла, если кинопоиск стал выбрасывать капчу\n",
    "    if add_res[0] == 'captcha' or add_res[1] == 'captcha':\n",
    "        break\n",
    "    # добавление полученных данных в датафрейм\n",
    "    try:\n",
    "        if pd.isnull(df_new.loc[i, 'Img_urls']):\n",
    "            df_new.loc[i, 'Img_urls'] = add_res[0]\n",
    "        else:\n",
    "            df_new.loc[i, 'Img_urls'] = f\"{df_new.loc[i, 'Img_urls']}\" + add_res[0]\n",
    "        \n",
    "        # добавление новых страниц\n",
    "        add_nums = add_res[1].split(';')\n",
    "        nums = df_new.loc[i, 'Img_pages'].split(';')\n",
    "        new_nums = nums + add_nums\n",
    "        new_nums.sort()\n",
    "        uni_pages = ';'.join([x for i, x in enumerate(new_nums) if i == new_nums.index(x)])\n",
    "        #df_new.loc[i, 'Img_pages'] = uni_pages # отключать комментирование для последней страницы и включать для остальных\n",
    "        \n",
    "        cnt += 1\n",
    "        # через каждые 5 запросов сохрняем результаты в файл, чтобы не потерять\n",
    "        if cnt % 5 == 0:\n",
    "            df_new.to_csv(df_path + '/celebs_final.csv')\n",
    "    except TypeError:\n",
    "        print('Error get data!')\n",
    "\n",
    "    time.sleep(random.randrange(2, 5))"
   ]
  },
  {
   "cell_type": "markdown",
   "id": "5f66a317",
   "metadata": {},
   "source": [
    "Аналогичным образом парсим вглубь базу данных Кинопоиска пока не будут пройдены все доступные для каждой знаменитости страницы. "
   ]
  },
  {
   "cell_type": "code",
   "execution_count": null,
   "id": "ba754ecd",
   "metadata": {},
   "outputs": [],
   "source": [
    "df_new.query('Eng_name==\"Angelina Jolie\"', engine='python')"
   ]
  },
  {
   "cell_type": "markdown",
   "id": "b8d89897",
   "metadata": {},
   "source": [
    "Теперь для актрисы Анджелины Джоли может быть загружено следующее количество дополнительных изображений:"
   ]
  },
  {
   "cell_type": "code",
   "execution_count": null,
   "id": "e06be133",
   "metadata": {},
   "outputs": [],
   "source": [
    "len(set(df_new.loc[142, 'Img_urls'].split(';;')))"
   ]
  },
  {
   "cell_type": "markdown",
   "id": "2bce642b",
   "metadata": {},
   "source": [
    "Всего для всех актёров и актрис может быть получено слещующее количество дополнительных изображений:"
   ]
  },
  {
   "cell_type": "code",
   "execution_count": null,
   "id": "a31fc488",
   "metadata": {},
   "outputs": [],
   "source": [
    "def counter(x):\n",
    "    return len(set(x.split(';;')))\n",
    "\n",
    "df_new[df_new['Img_urls'].notnull()]['Img_urls'].apply(lambda x: counter(x)).sum()"
   ]
  },
  {
   "cell_type": "code",
   "execution_count": null,
   "id": "1de44e99",
   "metadata": {},
   "outputs": [],
   "source": [
    "df_new.query('Img_urls.notnull()', engine='python').shape[0]"
   ]
  },
  {
   "cell_type": "code",
   "execution_count": null,
   "id": "a345dd73",
   "metadata": {},
   "outputs": [],
   "source": [
    "df_new.query('Img_urls.notnull()', engine='python').index"
   ]
  },
  {
   "cell_type": "code",
   "execution_count": null,
   "id": "59cd275e",
   "metadata": {},
   "outputs": [],
   "source": [
    "# функция загрузки дополнительных изображений знаменитостей с сайта kinopoisk\n",
    "\n",
    "def get_additional_images(df, gender='men', natio='eng'):\n",
    "    df_path = '//192.168.1.113/Public/Documents/PET-project'\n",
    "    \n",
    "    # проверяем наличие папки gallery и при необходимости создаём её\n",
    "    if os.path.exists(f'{df_path}/images/') != True:\n",
    "        os.mkdir(f'{df_path}/images/')\n",
    "        \n",
    "    # проверяем наличие подпапки разделения по полу и при необходимости создаём её\n",
    "    if os.path.exists(f'{df_path}/images/{gender}') != True:\n",
    "        os.mkdir(f'{df_path}/images/{gender}')\n",
    "        \n",
    "    # проверяем наличие подпапки разделения по признаку отечественный/иностранный и при необходимости создаём её\n",
    "    if os.path.exists(f'{df_path}/images/{gender}/{natio}') != True:\n",
    "        os.mkdir(f'{df_path}/images/{gender}/{natio}')\n",
    "    \n",
    "    if natio == 'eng':\n",
    "        req = 'Eng_name.notnull()'\n",
    "        name = 'Eng_name'\n",
    "    if natio == 'rus':\n",
    "        req = 'Eng_name.isnull()'\n",
    "        name = 'Rus_name'\n",
    "        \n",
    "    if gender == 'men':\n",
    "        role = 'актер'\n",
    "    if gender == 'women':\n",
    "        role = 'актриса'\n",
    "        \n",
    "    # пройдемся по каждому имени\n",
    "    for face in notebook.tqdm(list(df.query(f'{req} & Img_urls.notnull() & Role==\"{role}\"',\\\n",
    "                                            engine='python')[f'{name}'].values)):\n",
    "        face = face.strip()\n",
    "        \n",
    "        if os.path.exists(f'{df_path}/images/{gender}/{natio}/{face}') != True:\n",
    "            os.mkdir(f'{df_path}/images/{gender}/{natio}/{face}')\n",
    "        else:\n",
    "            print(f'Images for {face} already uploaded!')\n",
    "            continue\n",
    "            \n",
    "        print('Start parse images for %s!' % face)\n",
    "        \n",
    "        ind = df.query(f'{name}==\"{face}\"').index\n",
    "        \n",
    "        try:\n",
    "            img_urls_str = df_new.loc[ind[0], 'Img_urls']\n",
    "            \n",
    "            img_urls = list(set(img_urls_str.split(';;')))[:]\n",
    "            \n",
    "            i = 0\n",
    "            for img_url in img_urls:\n",
    "                if len(img_url) > 1:\n",
    "                    i += 1\n",
    "                    # Загрузка исходного кода страницы и получение ссылок на изображения\n",
    "                    resp = requests.get(f'https://avatars.mds.yandex.net/get-kinopoisk-image{img_url}1920x')\n",
    "                    \n",
    "                    with open(f'{df_path}/images/{gender}/{natio}/{face}/Image_{i}.jpg', 'wb') as f:\n",
    "                        try:\n",
    "                            f.write(resp.content)\n",
    "                            print('    :: parsed image :: %s!' % img_url)\n",
    "                        except OSError:\n",
    "                            print('    :: Error parse :: %s (!)' % img_url)\n",
    "                            continue\n",
    "        except (IndexError, AttributeError):\n",
    "            print('Index error for %s (!)' % face)"
   ]
  },
  {
   "cell_type": "code",
   "execution_count": null,
   "id": "75559a4b",
   "metadata": {},
   "outputs": [],
   "source": [
    "# загрузка дополнительных изображений иностранных актёров\n",
    "get_additional_images(df_new)"
   ]
  },
  {
   "cell_type": "code",
   "execution_count": null,
   "id": "61d9702f",
   "metadata": {},
   "outputs": [],
   "source": [
    "# загрузка дополнительных изображений иностранных актрис\n",
    "get_additional_images(df_new, gender='women')"
   ]
  },
  {
   "cell_type": "code",
   "execution_count": null,
   "id": "5f7704c5",
   "metadata": {},
   "outputs": [],
   "source": [
    "# загрузка дополнительных изображений отечественных актёров\n",
    "get_additional_images(df_new, natio='rus')"
   ]
  },
  {
   "cell_type": "code",
   "execution_count": null,
   "id": "8cac49cf",
   "metadata": {},
   "outputs": [],
   "source": [
    "# загрузка дополнительных изображений отечественных актрис\n",
    "get_additional_images(df_new, gender='women', natio='rus')"
   ]
  },
  {
   "cell_type": "markdown",
   "id": "478f3d0e",
   "metadata": {},
   "source": [
    "После загрузки фотографий знаменитостей с сайта Кинопоиск необходимо произвести уже знакомые операции по выделению лиц на изображениях и их последующего сохранения с масштабированием."
   ]
  },
  {
   "cell_type": "code",
   "execution_count": null,
   "id": "076b16b1",
   "metadata": {},
   "outputs": [],
   "source": [
    "df_path = 'D://PET-project'"
   ]
  },
  {
   "cell_type": "code",
   "execution_count": null,
   "id": "5314646d",
   "metadata": {},
   "outputs": [],
   "source": [
    "# функция обрезки изображений знаменитостей из папки images для сохранения фрагментов с лицами\n",
    "\n",
    "def image_compress(gender='men'):\n",
    "    nation = ['eng', 'rus']\n",
    "    for natio in nation:\n",
    "        folders = glob.glob(f'{df_path}/images/{gender}/{natio}/*')\n",
    "        \n",
    "        # пройдемся по каждому имени\n",
    "        for face in notebook.tqdm(folders):\n",
    "            face = face.strip()\n",
    "            \n",
    "            # выгрузим все название файлов из папки\n",
    "            files = glob.glob(f'{face}/*')\n",
    "            \n",
    "            # пройдемся по списку файлов в цикле\n",
    "            for img_file in files:\n",
    "                try:\n",
    "                    # обрезка изображений\n",
    "                    image_cropper(img_file)\n",
    "                    print('[%] Image: {} succefull cropped!\\n'.format(img_file))\n",
    "                except:\n",
    "                    print('[!] Error crop image: {}\\n'.format(img_file))\n",
    "                    continue"
   ]
  },
  {
   "cell_type": "code",
   "execution_count": null,
   "id": "22b5b816",
   "metadata": {},
   "outputs": [],
   "source": [
    "# функция сжатия/расширение изображений знаменитостей в папке images\n",
    "\n",
    "def images_gallery_compress(gender='men'):\n",
    "    nation = ['eng', 'rus']\n",
    "    for natio in nation:\n",
    "        folders = glob.glob(f'{df_path}/images/{gender}/{natio}/*')\n",
    "        \n",
    "        for face in notebook.tqdm(folders):\n",
    "            face = face.strip()\n",
    "            \n",
    "            # выгрузим все названия файлов из подпапок знаменитостей\n",
    "            files = glob.glob(f'{face}/*')\n",
    "            \n",
    "            for img_file in files:\n",
    "                # обрезка изображений\n",
    "                try:\n",
    "                    with Image.open(img_file) as image:\n",
    "                        size = image.size \n",
    "                        \n",
    "                        # определим его наименьшую сторону\n",
    "                        if size[0] < size[1]:\n",
    "                            min_size = size[0]\n",
    "                        else:\n",
    "                            min_size = size[1]\n",
    "                            \n",
    "                        if min_size > 192:\n",
    "                            # получим коэффициент, на который нужно уменьшить/увеличить\n",
    "                            # изображение по одной из сторон до 256\n",
    "                            coef = SIZE / min_size\n",
    "                            \n",
    "                            # изменяем размер изображения\n",
    "                            resized_image = image.resize((int(size[0] * coef), int(size[1] * coef)))\n",
    "                            resized_image = resized_image.convert('RGB')\n",
    "                            # сохраняем изображение в новом размере\n",
    "                            resized_image.save(img_file)\n",
    "                    if min_size < 192:\n",
    "                        os.remove(img_file)\n",
    "                        print('[%] Image: {} delete!'.format(img_file))\n",
    "                except:\n",
    "                    os.remove(img_file)\n",
    "                    print('Error in file: %s!' % img_file)"
   ]
  },
  {
   "cell_type": "code",
   "execution_count": null,
   "id": "7cc30e7a",
   "metadata": {},
   "outputs": [],
   "source": [
    "# обрезка галлереи изображений актёров\n",
    "image_compress()"
   ]
  },
  {
   "cell_type": "code",
   "execution_count": null,
   "id": "dfecf94f",
   "metadata": {},
   "outputs": [],
   "source": [
    "# обрезка галлереи изображений актрис\n",
    "image_compress(gender='women')"
   ]
  },
  {
   "cell_type": "code",
   "execution_count": null,
   "id": "a0d7c08b",
   "metadata": {},
   "outputs": [],
   "source": [
    "# сжатие/растяжение галлереи изображений актёров\n",
    "images_gallery_compress()"
   ]
  },
  {
   "cell_type": "code",
   "execution_count": null,
   "id": "9eea6121",
   "metadata": {},
   "outputs": [],
   "source": [
    "# сжатие/растяжение галлереи изображений актрис\n",
    "images_gallery_compress(gender='women')"
   ]
  },
  {
   "cell_type": "markdown",
   "id": "4f4d30c1",
   "metadata": {},
   "source": [
    "После того как загружены изображения, можно произвести отбор наилучших изображений для каждой знаменистости с целью подготовки обучающих датасетов для обучения моделей."
   ]
  },
  {
   "cell_type": "code",
   "execution_count": null,
   "id": "39f0f741",
   "metadata": {},
   "outputs": [],
   "source": []
  }
 ],
 "metadata": {
  "kernelspec": {
   "display_name": "Python 3",
   "language": "python",
   "name": "python3"
  },
  "language_info": {
   "codemirror_mode": {
    "name": "ipython",
    "version": 3
   },
   "file_extension": ".py",
   "mimetype": "text/x-python",
   "name": "python",
   "nbconvert_exporter": "python",
   "pygments_lexer": "ipython3",
   "version": "3.8.8"
  }
 },
 "nbformat": 4,
 "nbformat_minor": 5
}
